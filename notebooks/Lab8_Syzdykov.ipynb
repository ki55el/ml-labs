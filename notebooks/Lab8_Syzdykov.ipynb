{
  "nbformat": 4,
  "nbformat_minor": 0,
  "metadata": {
    "colab": {
      "provenance": []
    },
    "kernelspec": {
      "name": "python3",
      "display_name": "Python 3"
    },
    "language_info": {
      "name": "python"
    }
  },
  "cells": [
    {
      "cell_type": "markdown",
      "source": [
        "# Лабораторная работа №8. Сверточные нейронные сети (CNN). Компьютерное зрение. Задача классификации изображений"
      ],
      "metadata": {
        "id": "Dl014JBMqBEJ"
      }
    },
    {
      "cell_type": "markdown",
      "source": [
        "## ЗАДАНИЕ №1.\n",
        "1. Загрузите датасет для классификации кошек и собак: https://drive.google.com/file/d/1YQ2PX-BZ_7uZ216qmAnx-nTCaEqozuCZ/view?usp=share_link.\n",
        "2. Выполните как минимум две аугментации.\n",
        "3. Соберите CNN с помощью фреймворка Tensorflow и решите задачу классификации кошек и собак. Выполните оценку модели.\n",
        "4. Сформулируйте вывод на основе ответов следующих вопросов:\n",
        "o Какие этапы предварительной обработки данных Вы делаете и что происходит с данными?\n",
        "o Что означают параметры, которые Вы задаете?\n",
        "o Какие слои есть в Вашей реализации CNN и что происходит на каждом слое?"
      ],
      "metadata": {
        "id": "ALG8iRyix-wa"
      }
    },
    {
      "cell_type": "code",
      "source": [],
      "metadata": {
        "id": "byNGJ-0SyLri"
      },
      "execution_count": null,
      "outputs": []
    },
    {
      "cell_type": "markdown",
      "source": [
        "## ЗАДАНИЕ №2.\n",
        "1. Загрузите датасет с множеством различных классов: https://data.caltech.edu/records/mzrjq-6wc02/files/caltech-101.zip Выберите 3 любых класса, которые Вам нравятся. Загрузите данные и сформируете датасет.\n",
        "2. Выполните как минимум две аугментации.\n",
        "3. С помощью фреймворка Tensorflow загрузите модели InceptionV3 и VGG19. Выполните Transfer Learning и Fine-Tuning этих моделей для распознавания классов. В процессе подготовки CNN, разморозьте какой-либо еще слой, кроме последнего. Сравните ре-зультаты двух моделей CNN на Ваших данных (по метрике accuracy в процессе обучения).\n",
        "4. Реализуйте сверточный слой (прямое и обратное распространение). Используйте реализацию многослойного персептрона из ЛР №7. Соберите CNN, используя разработанные Вами слои.\n",
        "5. Попробуйте обучить классификатор кошек и собак с использованием собственной реализации CNN."
      ],
      "metadata": {
        "id": "L5NJEZ2cx-0y"
      }
    },
    {
      "cell_type": "code",
      "source": [],
      "metadata": {
        "id": "JdywMK5zyLW6"
      },
      "execution_count": null,
      "outputs": []
    },
    {
      "cell_type": "markdown",
      "source": [
        "## ЗАДАНИЕ №3**\n",
        "Реализуйте слои MaxPooling, AveragePooling и MinPooling (прямое и обратное распространение). Самостоятельно найдите схему вычисления градиента."
      ],
      "metadata": {
        "id": "LONbxwLlyGEz"
      }
    },
    {
      "cell_type": "code",
      "source": [],
      "metadata": {
        "id": "hR0ecrV_yLGf"
      },
      "execution_count": null,
      "outputs": []
    }
  ]
}